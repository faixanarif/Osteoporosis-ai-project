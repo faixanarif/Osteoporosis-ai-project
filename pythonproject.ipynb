{
 "cells": [
  {
   "cell_type": "code",
   "execution_count": 5,
   "id": "bdb8810b-9b50-43aa-860b-f44a133ff525",
   "metadata": {},
   "outputs": [],
   "source": [
    "import pandas as pd\n",
    "from sklearn.model_selection import train_test_split\n",
    "from sklearn.svm import SVC\n",
    "from sklearn.preprocessing import StandardScaler\n",
    "from sklearn.metrics import accuracy_score"
   ]
  },
  {
   "cell_type": "code",
   "execution_count": 2,
   "id": "c9151b90-e80f-4d5b-913c-915b22d3ef20",
   "metadata": {},
   "outputs": [
    {
     "data": {
      "text/html": [
       "<div>\n",
       "<style scoped>\n",
       "    .dataframe tbody tr th:only-of-type {\n",
       "        vertical-align: middle;\n",
       "    }\n",
       "\n",
       "    .dataframe tbody tr th {\n",
       "        vertical-align: top;\n",
       "    }\n",
       "\n",
       "    .dataframe thead th {\n",
       "        text-align: right;\n",
       "    }\n",
       "</style>\n",
       "<table border=\"1\" class=\"dataframe\">\n",
       "  <thead>\n",
       "    <tr style=\"text-align: right;\">\n",
       "      <th></th>\n",
       "      <th>central_diamond_1mean</th>\n",
       "      <th>central_diamond1std</th>\n",
       "      <th>central_diamond1_entropy</th>\n",
       "      <th>central_diamond_2mean</th>\n",
       "      <th>central_diamond2std</th>\n",
       "      <th>central_diamond2_entropy</th>\n",
       "      <th>central_diamond_3mean</th>\n",
       "      <th>central_diamond3std</th>\n",
       "      <th>central_diamond3_entropy</th>\n",
       "      <th>central_diamond_4mean</th>\n",
       "      <th>...</th>\n",
       "      <th>block11_12_15_16diamond6mean</th>\n",
       "      <th>block11_12_15_16_diamond6std</th>\n",
       "      <th>block11_12_15_16_diamond6_entropy</th>\n",
       "      <th>block11_12_15_16diamond7mean</th>\n",
       "      <th>block11_12_15_16_diamond7std</th>\n",
       "      <th>block11_12_15_16_diamond7_entropy</th>\n",
       "      <th>block11_12_15_16diamond8mean</th>\n",
       "      <th>block11_12_15_16_diamond8std</th>\n",
       "      <th>block11_12_15_16_diamond8_entropy</th>\n",
       "      <th>label</th>\n",
       "    </tr>\n",
       "  </thead>\n",
       "  <tbody>\n",
       "    <tr>\n",
       "      <th>0</th>\n",
       "      <td>67.4375</td>\n",
       "      <td>3.353520</td>\n",
       "      <td>2.339372</td>\n",
       "      <td>79.5000</td>\n",
       "      <td>1.732051</td>\n",
       "      <td>1.630433</td>\n",
       "      <td>151.3125</td>\n",
       "      <td>3.600673</td>\n",
       "      <td>2.014036</td>\n",
       "      <td>6.1875</td>\n",
       "      <td>...</td>\n",
       "      <td>0.0</td>\n",
       "      <td>0.0</td>\n",
       "      <td>0.0</td>\n",
       "      <td>0.0</td>\n",
       "      <td>0.0</td>\n",
       "      <td>0.0</td>\n",
       "      <td>0.0</td>\n",
       "      <td>0.0</td>\n",
       "      <td>0.0</td>\n",
       "      <td>normal</td>\n",
       "    </tr>\n",
       "    <tr>\n",
       "      <th>1</th>\n",
       "      <td>67.4375</td>\n",
       "      <td>3.353520</td>\n",
       "      <td>2.339372</td>\n",
       "      <td>79.5000</td>\n",
       "      <td>1.732051</td>\n",
       "      <td>1.630433</td>\n",
       "      <td>151.3125</td>\n",
       "      <td>3.600673</td>\n",
       "      <td>2.014036</td>\n",
       "      <td>6.1875</td>\n",
       "      <td>...</td>\n",
       "      <td>0.0</td>\n",
       "      <td>0.0</td>\n",
       "      <td>0.0</td>\n",
       "      <td>0.0</td>\n",
       "      <td>0.0</td>\n",
       "      <td>0.0</td>\n",
       "      <td>0.0</td>\n",
       "      <td>0.0</td>\n",
       "      <td>0.0</td>\n",
       "      <td>normal</td>\n",
       "    </tr>\n",
       "    <tr>\n",
       "      <th>2</th>\n",
       "      <td>170.3125</td>\n",
       "      <td>3.652375</td>\n",
       "      <td>2.426015</td>\n",
       "      <td>161.5000</td>\n",
       "      <td>3.041381</td>\n",
       "      <td>2.220025</td>\n",
       "      <td>154.6875</td>\n",
       "      <td>5.358623</td>\n",
       "      <td>2.187322</td>\n",
       "      <td>98.9375</td>\n",
       "      <td>...</td>\n",
       "      <td>0.0</td>\n",
       "      <td>0.0</td>\n",
       "      <td>0.0</td>\n",
       "      <td>0.0</td>\n",
       "      <td>0.0</td>\n",
       "      <td>0.0</td>\n",
       "      <td>0.0</td>\n",
       "      <td>0.0</td>\n",
       "      <td>0.0</td>\n",
       "      <td>normal</td>\n",
       "    </tr>\n",
       "    <tr>\n",
       "      <th>3</th>\n",
       "      <td>59.9375</td>\n",
       "      <td>2.435897</td>\n",
       "      <td>1.960095</td>\n",
       "      <td>145.1875</td>\n",
       "      <td>6.756652</td>\n",
       "      <td>2.339372</td>\n",
       "      <td>169.3125</td>\n",
       "      <td>1.927393</td>\n",
       "      <td>1.721402</td>\n",
       "      <td>20.7500</td>\n",
       "      <td>...</td>\n",
       "      <td>0.0</td>\n",
       "      <td>0.0</td>\n",
       "      <td>0.0</td>\n",
       "      <td>0.0</td>\n",
       "      <td>0.0</td>\n",
       "      <td>0.0</td>\n",
       "      <td>0.0</td>\n",
       "      <td>0.0</td>\n",
       "      <td>0.0</td>\n",
       "      <td>normal</td>\n",
       "    </tr>\n",
       "    <tr>\n",
       "      <th>4</th>\n",
       "      <td>92.0000</td>\n",
       "      <td>2.979094</td>\n",
       "      <td>2.166085</td>\n",
       "      <td>103.3750</td>\n",
       "      <td>1.576190</td>\n",
       "      <td>1.420116</td>\n",
       "      <td>169.1875</td>\n",
       "      <td>3.376736</td>\n",
       "      <td>2.014036</td>\n",
       "      <td>36.0625</td>\n",
       "      <td>...</td>\n",
       "      <td>0.0</td>\n",
       "      <td>0.0</td>\n",
       "      <td>0.0</td>\n",
       "      <td>0.0</td>\n",
       "      <td>0.0</td>\n",
       "      <td>0.0</td>\n",
       "      <td>0.0</td>\n",
       "      <td>0.0</td>\n",
       "      <td>0.0</td>\n",
       "      <td>normal</td>\n",
       "    </tr>\n",
       "  </tbody>\n",
       "</table>\n",
       "<p>5 rows × 265 columns</p>\n",
       "</div>"
      ],
      "text/plain": [
       "   central_diamond_1mean  central_diamond1std  central_diamond1_entropy  \\\n",
       "0                67.4375             3.353520                  2.339372   \n",
       "1                67.4375             3.353520                  2.339372   \n",
       "2               170.3125             3.652375                  2.426015   \n",
       "3                59.9375             2.435897                  1.960095   \n",
       "4                92.0000             2.979094                  2.166085   \n",
       "\n",
       "   central_diamond_2mean  central_diamond2std  central_diamond2_entropy  \\\n",
       "0                79.5000             1.732051                  1.630433   \n",
       "1                79.5000             1.732051                  1.630433   \n",
       "2               161.5000             3.041381                  2.220025   \n",
       "3               145.1875             6.756652                  2.339372   \n",
       "4               103.3750             1.576190                  1.420116   \n",
       "\n",
       "   central_diamond_3mean  central_diamond3std  central_diamond3_entropy  \\\n",
       "0               151.3125             3.600673                  2.014036   \n",
       "1               151.3125             3.600673                  2.014036   \n",
       "2               154.6875             5.358623                  2.187322   \n",
       "3               169.3125             1.927393                  1.721402   \n",
       "4               169.1875             3.376736                  2.014036   \n",
       "\n",
       "   central_diamond_4mean  ...  block11_12_15_16diamond6mean  \\\n",
       "0                 6.1875  ...                           0.0   \n",
       "1                 6.1875  ...                           0.0   \n",
       "2                98.9375  ...                           0.0   \n",
       "3                20.7500  ...                           0.0   \n",
       "4                36.0625  ...                           0.0   \n",
       "\n",
       "   block11_12_15_16_diamond6std  block11_12_15_16_diamond6_entropy  \\\n",
       "0                           0.0                                0.0   \n",
       "1                           0.0                                0.0   \n",
       "2                           0.0                                0.0   \n",
       "3                           0.0                                0.0   \n",
       "4                           0.0                                0.0   \n",
       "\n",
       "   block11_12_15_16diamond7mean  block11_12_15_16_diamond7std  \\\n",
       "0                           0.0                           0.0   \n",
       "1                           0.0                           0.0   \n",
       "2                           0.0                           0.0   \n",
       "3                           0.0                           0.0   \n",
       "4                           0.0                           0.0   \n",
       "\n",
       "   block11_12_15_16_diamond7_entropy  block11_12_15_16diamond8mean  \\\n",
       "0                                0.0                           0.0   \n",
       "1                                0.0                           0.0   \n",
       "2                                0.0                           0.0   \n",
       "3                                0.0                           0.0   \n",
       "4                                0.0                           0.0   \n",
       "\n",
       "   block11_12_15_16_diamond8std  block11_12_15_16_diamond8_entropy   label  \n",
       "0                           0.0                                0.0  normal  \n",
       "1                           0.0                                0.0  normal  \n",
       "2                           0.0                                0.0  normal  \n",
       "3                           0.0                                0.0  normal  \n",
       "4                           0.0                                0.0  normal  \n",
       "\n",
       "[5 rows x 265 columns]"
      ]
     },
     "execution_count": 2,
     "metadata": {},
     "output_type": "execute_result"
    }
   ],
   "source": [
    "df = pd.read_csv(\"image_features.csv\")\n",
    "df.head()"
   ]
  },
  {
   "cell_type": "code",
   "execution_count": 3,
   "id": "7e79104d-9f86-4de7-91eb-a96173c8d6c1",
   "metadata": {},
   "outputs": [
    {
     "data": {
      "text/plain": [
       "(5694, 265)"
      ]
     },
     "execution_count": 3,
     "metadata": {},
     "output_type": "execute_result"
    }
   ],
   "source": [
    "df.shape"
   ]
  },
  {
   "cell_type": "code",
   "execution_count": 15,
   "id": "27b7d0a8-9880-4357-bc15-08a29f0636e3",
   "metadata": {},
   "outputs": [],
   "source": [
    "from sklearn.metrics import accuracy_score, classification_report, confusion_matrix\n",
    "import matplotlib.pyplot as plt\n",
    "import pandas as pd\n",
    "import seaborn as sns"
   ]
  },
  {
   "cell_type": "code",
   "execution_count": 16,
   "id": "c07f529e-26eb-4c90-95a0-efb5a2c26c18",
   "metadata": {},
   "outputs": [
    {
     "name": "stdout",
     "output_type": "stream",
     "text": [
      "\n",
      "Classification Report:\n",
      "               precision    recall  f1-score   support\n",
      "\n",
      "      normal       0.73      0.58      0.64       524\n",
      "  osteopenia       0.50      0.45      0.47       181\n",
      "osteoporosis       0.60      0.78      0.68       434\n",
      "\n",
      "    accuracy                           0.63      1139\n",
      "   macro avg       0.61      0.60      0.60      1139\n",
      "weighted avg       0.64      0.63      0.63      1139\n",
      "\n"
     ]
    },
    {
     "data": {
      "image/png": "[encoded data removed]",
      "text/plain": [
       "<Figure size 500x400 with 2 Axes>"
      ]
     },
     "metadata": {},
     "output_type": "display_data"
    }
   ],
   "source": [
    "print(\"\\nClassification Report:\\n\", classification_report(y_test, y_pred))\n",
    "conf_matrix = confusion_matrix(y_test, y_pred)\n",
    " # Plot Confusion Matrix\n",
    "plt.figure(figsize=(5, 4))\n",
    "sns.heatmap(conf_matrix, annot=True, fmt=\"d\", cmap=\"Blues\", linewidths=10, xticklabels=['Osteoporosis', 'Normal'], yticklabels=['Osteoporosis', 'Normal'])\n",
    "plt.xlabel('Predicted Label')\n",
    "plt.ylabel('True Label')\n",
    "plt.title('Confusion Matrix')\n",
    "plt.show()"
   ]
  },
  {
   "cell_type": "code",
   "execution_count": 21,
   "id": "c691c482-22db-43d2-8b2e-90c871c2a614",
   "metadata": {},
   "outputs": [
    {
     "name": "stdout",
     "output_type": "stream",
     "text": [
      "KNN Accuracy: 0.611062335381914\n"
     ]
    }
   ],
   "source": [
    "#KNN classifier\n",
    "import pandas as pd\n",
    "from sklearn.model_selection import train_test_split\n",
    "from sklearn.preprocessing import StandardScaler\n",
    "from sklearn.neighbors import KNeighborsClassifier\n",
    "from sklearn.metrics import accuracy_score\n",
    "\n",
    "df = pd.read_csv('image_features.csv') \n",
    "\n",
    "X = df.iloc[:, :-1] \n",
    "y = df.iloc[:, -1]  \n",
    "\n",
    "X_train, X_test, y_train, y_test = train_test_split(X, y, test_size=0.2, random_state=42)\n",
    "\n",
    "scaler = StandardScaler()\n",
    "X_train_scaled = scaler.fit_transform(X_train)\n",
    "X_test_scaled = scaler.transform(X_test)\n",
    "\n",
    "knn = KNeighborsClassifier(n_neighbors=5)  \n",
    "knn.fit(X_train_scaled, y_train)\n",
    "\n",
    "y_pred = knn.predict(X_test_scaled)\n",
    "print(\"KNN Accuracy:\", accuracy_score(y_test, y_pred))"
   ]
  },
  {
   "cell_type": "code",
   "execution_count": 22,
   "id": "6c1081bb-3552-4f63-9231-8b1f0fbaa34f",
   "metadata": {},
   "outputs": [
    {
     "name": "stdout",
     "output_type": "stream",
     "text": [
      "Random Forest Accuracy: 0.6795434591747147\n"
     ]
    }
   ],
   "source": [
    "#random forest classifier\n",
    "import pandas as pd\n",
    "from sklearn.model_selection import train_test_split\n",
    "from sklearn.ensemble import RandomForestClassifier\n",
    "from sklearn.metrics import accuracy_score\n",
    "\n",
    "df = pd.read_csv('image_features.csv')  \n",
    "\n",
    "X = df.iloc[:, :-1]  \n",
    "y = df.iloc[:, -1]   \n",
    "\n",
    "X_train, X_test, y_train, y_test = train_test_split(X, y, test_size=0.2, random_state=42)\n",
    "\n",
    "rf = RandomForestClassifier(n_estimators=100, random_state=42)  # 100 trees\n",
    "rf.fit(X_train, y_train)\n",
    "\n",
    "y_pred = rf.predict(X_test)\n",
    "print(\"Random Forest Accuracy:\", accuracy_score(y_test, y_pred))"
   ]
  },
  {
   "cell_type": "code",
   "execution_count": 23,
   "id": "0c8053f8-f45d-4e18-81a0-d9eca1d4d7d9",
   "metadata": {},
   "outputs": [
    {
     "name": "stdout",
     "output_type": "stream",
     "text": [
      "Gaussian Naive Bayes Accuracy: 0.46444249341527655\n"
     ]
    }
   ],
   "source": [
    "#naive bayes gaussian classifier\n",
    "from sklearn.naive_bayes import GaussianNB\n",
    "\n",
    "X_train, X_test, y_train, y_test = train_test_split(X, y, test_size=0.2, random_state=42)\n",
    "\n",
    "nb = GaussianNB()\n",
    "nb.fit(X_train, y_train)\n",
    "\n",
    "y_pred = nb.predict(X_test)\n",
    "print(\"Gaussian Naive Bayes Accuracy:\", accuracy_score(y_test, y_pred))"
   ]
  },
  {
   "cell_type": "code",
   "execution_count": 24,
   "id": "2f411d47-61cc-4378-a223-e95e7827c287",
   "metadata": {},
   "outputs": [
    {
     "name": "stdout",
     "output_type": "stream",
     "text": [
      "Linear SVM Accuracy: 0.5785776997366111\n"
     ]
    }
   ],
   "source": [
    "#linear kernel SVM\n",
    "import pandas as pd\n",
    "from sklearn.model_selection import train_test_split\n",
    "from sklearn.svm import LinearSVC\n",
    "from sklearn.metrics import accuracy_score\n",
    "from sklearn.preprocessing import StandardScaler\n",
    "\n",
    "df = pd.read_csv('image_features.csv')  \n",
    "\n",
    "X = df.iloc[:, :-1]  \n",
    "y = df.iloc[:, -1]  \n",
    "\n",
    "X_train, X_test, y_train, y_test = train_test_split(X, y, test_size=0.2, random_state=42)\n",
    "\n",
    "scaler = StandardScaler()\n",
    "X_train_scaled = scaler.fit_transform(X_train)\n",
    "X_test_scaled = scaler.transform(X_test)\n",
    "\n",
    "linear_svm = LinearSVC(random_state=42, max_iter=10000)  \n",
    "linear_svm.fit(X_train_scaled, y_train)\n",
    "\n",
    "y_pred = linear_svm.predict(X_test_scaled)\n",
    "print(\"Linear SVM Accuracy:\", accuracy_score(y_test, y_pred))"
   ]
  },
  {
   "cell_type": "code",
   "execution_count": 28,
   "id": "2504451e-8f85-40e6-bb59-b69b995a37eb",
   "metadata": {},
   "outputs": [
    {
     "name": "stdout",
     "output_type": "stream",
     "text": [
      "RBF SVM Accuracy: 0.6321\n"
     ]
    }
   ],
   "source": [
    "# RBF kernel SVM\n",
    "import pandas as pd\n",
    "from sklearn.model_selection import train_test_split\n",
    "from sklearn.preprocessing import StandardScaler\n",
    "from sklearn.svm import SVC\n",
    "from sklearn.metrics import accuracy_score\n",
    "\n",
    "df = pd.read_csv('image_features.csv') \n",
    "\n",
    "X = df.iloc[:, :-1]  \n",
    "y = df.iloc[:, -1]   \n",
    "\n",
    "X_train, X_test, y_train, y_test = train_test_split(X, y, test_size=0.2, random_state=42)\n",
    "\n",
    "scaler = StandardScaler()\n",
    "X_train_scaled = scaler.fit_transform(X_train)\n",
    "X_test_scaled = scaler.transform(X_test)\n",
    "\n",
    "rbf_svm = SVC(kernel='rbf', random_state=42) \n",
    "rbf_svm.fit(X_train_scaled, y_train)\n",
    "\n",
    "y_pred = rbf_svm.predict(X_test_scaled)\n",
    "accuracy = accuracy_score(y_test, y_pred)\n",
    "print(f\"RBF SVM Accuracy: {accuracy:.4f}\")"
   ]
  }
 ],
 "metadata": {
  "kernelspec": {
   "display_name": "Python 3 (ipykernel)",
   "language": "python",
   "name": "python3"
  },
  "language_info": {
   "codemirror_mode": {
    "name": "ipython",
    "version": 3
   },
   "file_extension": ".py",
   "mimetype": "text/x-python",
   "name": "python",
   "nbconvert_exporter": "python",
   "pygments_lexer": "ipython3",
   "version": "3.13.1"
  }
 },
 "nbformat": 4,
 "nbformat_minor": 5
}
